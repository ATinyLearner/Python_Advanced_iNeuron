{
 "cells": [
  {
   "cell_type": "markdown",
   "id": "6c91aea8-21c8-4c97-ada8-5009d190f181",
   "metadata": {},
   "source": [
    "### Q1. What is the relationship between classes and modules?\n",
    "Ans: Classes in python are templates for creating objects. They contain variables and functions which define the class objects. At the same time, modules are python programs that can be imported into another python program. Importing a module enables the usage of the module’s functions and variables into another program"
   ]
  },
  {
   "cell_type": "code",
   "execution_count": 1,
   "id": "d950bf37-9998-42f0-99fa-db4ee3649b41",
   "metadata": {},
   "outputs": [
    {
     "data": {
      "text/plain": [
       "100"
      ]
     },
     "execution_count": 1,
     "metadata": {},
     "output_type": "execute_result"
    }
   ],
   "source": [
    "# Q2. How do you make instances and classes?\n",
    "# Ans: Let's take an example for a class and instance to understand this.\n",
    "class Square:\n",
    "    def __init__(self,length=1):\n",
    "        self.length=length\n",
    "        \n",
    "    def getArea(self):\n",
    "        return self.length**2\n",
    "        \n",
    "\n",
    "#creating instance\n",
    "test_square=Square(length=10)\n",
    "test_square.getArea()"
   ]
  },
  {
   "cell_type": "code",
   "execution_count": 2,
   "id": "8c8074e9-9768-424a-a3bb-f6843850c04a",
   "metadata": {},
   "outputs": [
    {
     "name": "stdout",
     "output_type": "stream",
     "text": [
      "A student reads in ABC School\n"
     ]
    }
   ],
   "source": [
    "# Q3. Where and how should be class attributes created?\n",
    "# Ans: Let's take an example to understand this.\n",
    "class Student:\n",
    "    #class attribute\n",
    "    school_name=\"ABC School\" # this is an attribute which is fixed and can be accessed by using class instance though not used in constructor\n",
    "    job=\"Student\"\n",
    "    \n",
    "# creating instance but not assigning any value\n",
    "student=Student()\n",
    "print(f\"A student reads in {student.school_name}\")"
   ]
  },
  {
   "cell_type": "code",
   "execution_count": 5,
   "id": "b88580a8-704f-4b2a-9d79-d9f344e264f5",
   "metadata": {},
   "outputs": [
    {
     "name": "stdout",
     "output_type": "stream",
     "text": [
      "314.16\n",
      "201.06\n"
     ]
    }
   ],
   "source": [
    "# Q4. Where and how are instance attributes created?\n",
    "# Ans: Let's take an example to understand this.\n",
    "import math\n",
    "class Circle:\n",
    "    # Here we have created instance attribute,we can change this attribute as per requirement using constructor\n",
    "    def __init__(self,radius=1):\n",
    "        self.radius=radius\n",
    "    def get_area(self):\n",
    "        return round(math.pi*(self.radius**2),2)\n",
    "\n",
    "#changing value of radius while using constructor     \n",
    "circle1=Circle(radius=10)\n",
    "print(circle1.get_area())\n",
    "circle2=Circle(radius=8)\n",
    "print(circle2.get_area())"
   ]
  },
  {
   "cell_type": "markdown",
   "id": "e079662f-ce39-443a-9308-95d55d8be02c",
   "metadata": {},
   "source": [
    "### Q5. What does the term \"self\" in a Python class mean?\n",
    "Ans: The self parameter is a reference to the current instance of the class, and is used to access variables that belongs to the class."
   ]
  },
  {
   "cell_type": "code",
   "execution_count": 3,
   "id": "12301390-01fc-40ae-b236-d96fb3e8434e",
   "metadata": {},
   "outputs": [
    {
     "name": "stdout",
     "output_type": "stream",
     "text": [
      "ABC reads in class 8\n"
     ]
    }
   ],
   "source": [
    "# Q6. How does a Python class handle operator overloading?\n",
    "# Ans: Let's take an example to understand this.\n",
    "class Student:\n",
    "    def __init__(self,name:str,sclass:int):\n",
    "        self.name=name\n",
    "        self.sclass=sclass\n",
    "    #overloading str operator    \n",
    "    def __str__(self):\n",
    "        return f\"{self.name} reads in class {self.sclass}\"\n",
    "    \n",
    "#creating instance for testing\n",
    "student=Student(name=\"ABC\",sclass=8)\n",
    "print(student)"
   ]
  },
  {
   "cell_type": "markdown",
   "id": "75c8304e-99ed-4f02-a198-232316c11003",
   "metadata": {},
   "source": [
    "### Q7. When do you consider allowing operator overloading of your classes?\n",
    "Ans: We want to overload operator if we want to customize the way an operator works. If it is required for a specific class to handle those builtin operators in a different way, then we can do that by overloading operator."
   ]
  },
  {
   "cell_type": "markdown",
   "id": "1867d6a6-e981-47b0-b7f4-c38a339061f7",
   "metadata": {},
   "source": [
    "### Q8. What is the most popular form of operator overloading?\n",
    "Ans: The most popular form of operator overloading is overlaoding str operator. Using that we can add specific feature for printing specific data of a class with having an extra method."
   ]
  },
  {
   "cell_type": "markdown",
   "id": "69df1ab7-0d23-400c-b500-f48663963095",
   "metadata": {},
   "source": [
    "### Q9. What are the two most important concepts to grasp in order to comprehend Python OOP code?\n",
    "Ans: Two main concept to understand the concept of class is "
   ]
  }
 ],
 "metadata": {
  "kernelspec": {
   "display_name": "Python 3 (ipykernel)",
   "language": "python",
   "name": "python3"
  },
  "language_info": {
   "codemirror_mode": {
    "name": "ipython",
    "version": 3
   },
   "file_extension": ".py",
   "mimetype": "text/x-python",
   "name": "python",
   "nbconvert_exporter": "python",
   "pygments_lexer": "ipython3",
   "version": "3.10.6"
  }
 },
 "nbformat": 4,
 "nbformat_minor": 5
}
