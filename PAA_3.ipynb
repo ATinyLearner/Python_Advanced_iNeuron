{
 "cells": [
  {
   "cell_type": "markdown",
   "id": "e5afb9ae-f954-4fd8-ae41-fd3aac4c8cef",
   "metadata": {},
   "source": [
    "### 1. What is the concept of an abstract superclass?\n",
    "Ans: Abstract superclass is a class where there is no direct use of that class for creating instance.But it is mainly used for using that class as inheritance. Also abstract class should have atleast one abstract method. It is super class as other class inherits this class."
   ]
  },
  {
   "cell_type": "markdown",
   "id": "15fc2e71-77f0-4752-9f85-58b775873170",
   "metadata": {},
   "source": [
    "### 2. What happens when a class statement's top level contains a basic assignment statement?\n",
    "Ans:If basic assignment statement is in the top level of a class then that is considered as class attribute.We can access that attribute using '.' operator. "
   ]
  },
  {
   "cell_type": "markdown",
   "id": "241bedf9-9af3-4d21-94df-7bfa8a0b6555",
   "metadata": {},
   "source": [
    "### 3. Why does a class need to manually call a superclass's __init__ method?\n",
    "Ans:We shall always call the superclass's __init__ method because superclass's init actually initialize and create those attributes.Hence if a class is inheriting that superclass then code of that class will not work."
   ]
  },
  {
   "cell_type": "code",
   "execution_count": 3,
   "id": "6bafd5c9-216b-4b5d-b7b6-3e7dec3eba6b",
   "metadata": {},
   "outputs": [
    {
     "name": "stdout",
     "output_type": "stream",
     "text": [
      "Hello from parent\n",
      "Hello from parent\n",
      "Hello from parent\n",
      "Hi\n",
      "Hi\n",
      "hey\n"
     ]
    }
   ],
   "source": [
    "# 4. How can you augment, instead of completely replacing, an inherited method?\n",
    "# Ans: We can customize inherited method as per our requirement for that class and use that inherited method rather than \n",
    "# replacing it.Let's take an example to understand this:\n",
    "class Parent(object):\n",
    "    def foo(self, number):\n",
    "        for _ in range(number):\n",
    "            print(\"Hello from parent\")\n",
    "\n",
    "\n",
    "\n",
    "class Child(Parent):\n",
    "    def foo(self, number, greeting):\n",
    "        for _ in range(number):\n",
    "            print(greeting)\n",
    "\n",
    "\n",
    "class GrandChild(Child):\n",
    "    def foo(self):\n",
    "        super(GrandChild,self).foo(1, \"hey\")\n",
    "\n",
    "\n",
    "p = Parent()\n",
    "p.foo(3)\n",
    "\n",
    "c = Child()\n",
    "c.foo(2, \"Hi\")\n",
    "\n",
    "g = GrandChild()\n",
    "g.foo()\n",
    "\n",
    "# we can see below for every foo function from each class is having some different output."
   ]
  },
  {
   "cell_type": "markdown",
   "id": "24cafab4-f60a-4d79-9f16-e202867847fd",
   "metadata": {},
   "source": [
    "### 5. How is the local scope of a class different from that of a function?\n",
    "Ans: Both are different in nature. Function local variable are not accessable outside of that function. Whereas class local variables are usable outside of the class if they are public variable. User can modify the permission of that variable in the class which is not possible inside a function."
   ]
  },
  {
   "cell_type": "code",
   "execution_count": null,
   "id": "1eb9eb84-bd41-4be8-882a-4e7e0148b2ab",
   "metadata": {},
   "outputs": [],
   "source": []
  }
 ],
 "metadata": {
  "kernelspec": {
   "display_name": "Python 3 (ipykernel)",
   "language": "python",
   "name": "python3"
  },
  "language_info": {
   "codemirror_mode": {
    "name": "ipython",
    "version": 3
   },
   "file_extension": ".py",
   "mimetype": "text/x-python",
   "name": "python",
   "nbconvert_exporter": "python",
   "pygments_lexer": "ipython3",
   "version": "3.10.6"
  }
 },
 "nbformat": 4,
 "nbformat_minor": 5
}
