{
 "cells": [
  {
   "cell_type": "markdown",
   "id": "8b9bc042-23e9-4114-8c40-6407d9421f48",
   "metadata": {},
   "source": [
    "###### Q1. What is the purpose of Python's OOP?\n",
    "\n",
    "###### Q2. Where does an inheritance search look for an attribute?\n",
    "\n",
    "###### Q3. How do you distinguish between a class object and an instance object?\n",
    "\n",
    "###### Q4. What makes the first argument in a class’s method function special?\n",
    "\n",
    "###### Q5. What is the purpose of the __init__ method?\n",
    "\n",
    "###### Q6. What is the process for creating a class instance?\n",
    "\n",
    "###### Q7. What is the process for creating a class?\n",
    "\n",
    "###### Q8. How would you define the superclasses of a class?"
   ]
  },
  {
   "cell_type": "markdown",
   "id": "1e53bc77-c831-4883-ba78-7b678228f977",
   "metadata": {},
   "source": [
    "#### Q1. What is the purpose of Python's OOP?\n",
    "Ans: We use object oriented programming is used to break larger problems into small chunks and solve them effectively. In python we use OOP with similar intention in mind. For each problem we break down the problems into various classes and create their individual classes to solve the problem."
   ]
  },
  {
   "cell_type": "markdown",
   "id": "92caa6af-9844-40d6-8796-7e098421bcbc",
   "metadata": {},
   "source": [
    "#### Q2. Where does an inheritance search look for an attribute?\n",
    "Ans:"
   ]
  },
  {
   "cell_type": "markdown",
   "id": "29b833c4-75cb-41c6-9661-649d0864d544",
   "metadata": {},
   "source": [
    "#### Q3. How do you distinguish between a class object and an instance object?\n",
    "Ans: Class is a structure or blueprint.We can create an instance using a class."
   ]
  },
  {
   "cell_type": "markdown",
   "id": "9ea6c78c-6487-4bc8-8749-e33a46cacd75",
   "metadata": {},
   "source": [
    "#### Q4. What makes the first argument in a class’s method function special?\n",
    "Ans:In class method we first use Self. Self is very special as it adds the access of the variables inside that class without any restriction."
   ]
  },
  {
   "cell_type": "markdown",
   "id": "a9d68824-7bd4-4279-a085-8db4f95fd805",
   "metadata": {},
   "source": [
    "#### Q5. What is the purpose of the __init__ method?\n",
    "Ans: __init__ method is used to initiate class variables. It is used to create constructors for a class."
   ]
  },
  {
   "cell_type": "code",
   "execution_count": 1,
   "id": "2bd82024-5bdc-4a8f-9e03-a9299d831b3c",
   "metadata": {},
   "outputs": [
    {
     "data": {
      "text/plain": [
       "100"
      ]
     },
     "execution_count": 1,
     "metadata": {},
     "output_type": "execute_result"
    }
   ],
   "source": [
    "# Q6. What is the process for creating a class instance?\n",
    "# Ans: Let's take an example for a class and instance to understand this.\n",
    "class Square:\n",
    "    def __init__(self,length=1):\n",
    "        self.length=length\n",
    "        \n",
    "    def getArea(self):\n",
    "        return self.length**2\n",
    "        \n",
    "\n",
    "#creating instance\n",
    "test_square=Square(length=10)\n",
    "test_square.getArea()\n"
   ]
  },
  {
   "cell_type": "code",
   "execution_count": 2,
   "id": "1cfa32a3-838e-4c1c-bf0a-67deb51bc56b",
   "metadata": {},
   "outputs": [],
   "source": [
    "#### Q7. What is the process for creating a class?\n",
    "# Ans: Let's take an example for a class and instance to understand this.\n",
    "class Square:\n",
    "    def __init__(self,length=1): #initializing parameters\n",
    "        self.length=length\n",
    "        \n",
    "    def getArea(self):\n",
    "        return self.length**2"
   ]
  },
  {
   "cell_type": "code",
   "execution_count": 3,
   "id": "24e630d1-d4f1-4418-ad32-54d8c165146f",
   "metadata": {},
   "outputs": [
    {
     "name": "stdout",
     "output_type": "stream",
     "text": [
      "Animal Type: Mammal\n",
      "Mammals give birth directly\n"
     ]
    }
   ],
   "source": [
    "# Q8. How would you define the superclasses of a class?\n",
    "# Ans: Super class is the parent class of the class. Let's take an example to understand this.\n",
    "class Animal(object):\n",
    "  def __init__(self, animal_type):\n",
    "    print('Animal Type:', animal_type)\n",
    "    \n",
    "class Mammal(Animal):\n",
    "  def __init__(self):\n",
    "\n",
    "    # call superclass\n",
    "    super().__init__('Mammal')\n",
    "    print('Mammals give birth directly')\n",
    "#Here Animal is the super class of Mammal\n",
    "dog = Mammal()"
   ]
  },
  {
   "cell_type": "code",
   "execution_count": null,
   "id": "1bbe55a7-31ce-4047-b43c-f4543abc9229",
   "metadata": {},
   "outputs": [],
   "source": []
  }
 ],
 "metadata": {
  "kernelspec": {
   "display_name": "Python 3 (ipykernel)",
   "language": "python",
   "name": "python3"
  },
  "language_info": {
   "codemirror_mode": {
    "name": "ipython",
    "version": 3
   },
   "file_extension": ".py",
   "mimetype": "text/x-python",
   "name": "python",
   "nbconvert_exporter": "python",
   "pygments_lexer": "ipython3",
   "version": "3.10.6"
  }
 },
 "nbformat": 4,
 "nbformat_minor": 5
}
